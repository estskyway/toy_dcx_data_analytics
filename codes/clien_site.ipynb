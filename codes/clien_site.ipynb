{
 "cells": [
  {
   "cell_type": "markdown",
   "id": "f5be77a3-8003-4f76-aa12-1cdaaffcdc34",
   "metadata": {},
   "source": [
    "# scrapping 대상 사이트\n",
    "1. 블라인드 : https://www.teamblind.com/kr/search/%EB%94%94%EC%8A%A4%ED%81%AC\n",
    "2. 하이닥 : https://www.hidoc.co.kr/integratesearch/searchhealthqnalist?query=%EB%94%94%EC%8A%A4%ED%81%AC&page=1\n",
    "3. 클리앙 : https://www.clien.net/service/search?q=%EB%94%94%EC%8A%A4%ED%81%AC&sort=recency&p=10&boardCd=&isBoard=false"
   ]
  },
  {
   "cell_type": "code",
   "execution_count": 1,
   "id": "49ccd436-7776-48d0-975b-db9d0eac5915",
   "metadata": {
    "tags": []
   },
   "outputs": [],
   "source": [
    "from selenium import webdriver\n",
    "import time"
   ]
  },
  {
   "cell_type": "code",
   "execution_count": 2,
   "id": "2ceb7591-d618-4fb3-85d0-042e88d41f18",
   "metadata": {
    "tags": []
   },
   "outputs": [],
   "source": [
    "# open chrome browser\n",
    "browser = webdriver.Chrome(executable_path='../../chromedriver.exe')"
   ]
  },
  {
   "cell_type": "markdown",
   "id": "f4a69d9a-d414-4924-9932-6d80be9497a0",
   "metadata": {},
   "source": [
    "## 1. 클리앙 사이트\n",
    "- title tag : div.article-view-head > h2\n",
    "- content tag : \n",
    "- review tag : "
   ]
  },
  {
   "cell_type": "code",
   "execution_count": 3,
   "id": "b64dfcfe-3413-40a0-b088-a0ba7f2028d7",
   "metadata": {
    "tags": []
   },
   "outputs": [],
   "source": [
    "browser.get('https://www.clien.net/service/search?q=%ED%97%88%EB%A6%AC%20%EB%94%94%EC%8A%A4%ED%81%AC&sort=accuracy&boardCd=&isBoard=false')"
   ]
  },
  {
   "cell_type": "code",
   "execution_count": 4,
   "id": "4e15c786-3c1b-413b-81c0-ad5d569fb996",
   "metadata": {
    "tags": []
   },
   "outputs": [],
   "source": [
    "browser.implicitly_wait(10)"
   ]
  },
  {
   "cell_type": "markdown",
   "id": "5a9624bd-6dad-48ec-99aa-84103dbe880f",
   "metadata": {},
   "source": [
    "### 게시글 클릭\n",
    "- #wrap > section > div > div > div.article-list > div"
   ]
  },
  {
   "cell_type": "code",
   "execution_count": 5,
   "id": "df913998-3a16-47c8-95c8-e04221440618",
   "metadata": {
    "tags": []
   },
   "outputs": [],
   "source": [
    "click_path = '.subject_fixed'\n",
    "browser.find_element_by_css_selector(click_path).click()"
   ]
  },
  {
   "cell_type": "code",
   "execution_count": 6,
   "id": "e8473396-3b31-436c-9f39-ebd6727ef9ba",
   "metadata": {
    "tags": []
   },
   "outputs": [],
   "source": [
    "title_name = browser.find_element_by_css_selector('.post_subject').text\n",
    "content = browser.find_element_by_css_selector('.post_article').text\n",
    "reviewer = browser.find_element_by_css_selector('.nickname').text\n",
    "review = browser.find_element_by_css_selector('.comment_view').text\n",
    "\n",
    "basket = [title_name, content, reviewer, review]"
   ]
  },
  {
   "cell_type": "code",
   "execution_count": 7,
   "id": "0042fef8-75f6-41e7-ab54-50b9bb79ef1b",
   "metadata": {
    "tags": []
   },
   "outputs": [
    {
     "name": "stdout",
     "output_type": "stream",
     "text": [
      "['기타 목 허리 디스크가 있는데 살을 빼고 싶습니다 8', '현재 키 170, 81킬로,나이 45입니다\\n목, 허리디스크에 왼손 저림, 우측다리 저림, 목통증,허리통증.거기다 불면증,우울증도 있습니다\\n목 보호대, 허리 보호대 필요시 착용하고 있습니다.\\n작업환경은 의자에 앉아 있는 시간이 많고 현장근무도 합니다\\n병원에선 디스크는 경미한데 자세가 문제인듯하여 스트레칭 자주하고 휴대폰 많이 하지 마라고 하네요..\\n병원에선 살을 꼭 빼라고 합니다 ^^;;\\n병원은 통증의학과, 신경과 다니며 일주일에 도수치료 1회, 통증의학과 진료 1회 다닙니다\\n\\n건강하게 지내는 법 조언 부탁드립니다.\\n참고로 교대 근무를 합니다', '약한데강한척', '어차피 살 빼는건 8할이 식이라.. 운동이 제약받는건 생각만큼 크리티컬하지 않습니다. 운동은 그냥 할 수 있는 범위에서만 하시면 됩니다.']\n"
     ]
    }
   ],
   "source": [
    "print(basket)"
   ]
  },
  {
   "cell_type": "code",
   "execution_count": 8,
   "id": "b0d6fe99-722d-4003-9cc8-b9ae6f5df3e1",
   "metadata": {
    "tags": []
   },
   "outputs": [
    {
     "name": "stdout",
     "output_type": "stream",
     "text": [
      "title: 기타 목 허리 디스크가 있는데 살을 빼고 싶습니다 8\n",
      "content:현재 키 170, 81킬로,나이 45입니다\n",
      "목, 허리디스크에 왼손 저림, 우측다리 저림, 목통증,허리통증.거기다 불면증,우울증도 있습니다\n",
      "목 보호대, 허리 보호대 필요시 착용하고 있습니다.\n",
      "작업환경은 의자에 앉아 있는 시간이 많고 현장근무도 합니다\n",
      "병원에선 디스크는 경미한데 자세가 문제인듯하여 스트레칭 자주하고 휴대폰 많이 하지 마라고 하네요..\n",
      "병원에선 살을 꼭 빼라고 합니다 ^^;;\n",
      "병원은 통증의학과, 신경과 다니며 일주일에 도수치료 1회, 통증의학과 진료 1회 다닙니다\n",
      "\n",
      "건강하게 지내는 법 조언 부탁드립니다.\n",
      "참고로 교대 근무를 합니다\n",
      "reviewer:약한데강한척\n",
      "review:어차피 살 빼는건 8할이 식이라.. 운동이 제약받는건 생각만큼 크리티컬하지 않습니다. 운동은 그냥 할 수 있는 범위에서만 하시면 됩니다.\n"
     ]
    }
   ],
   "source": [
    "print('title: {}'.format(title_name))\n",
    "print('content:{}'.format(content))\n",
    "print('reviewer:{}'.format(reviewer))\n",
    "print('review:{}'.format(review))"
   ]
  },
  {
   "cell_type": "code",
   "execution_count": null,
   "id": "5f10434e-7864-496f-9d20-61e05139186c",
   "metadata": {
    "collapsed": true,
    "jupyter": {
     "outputs_hidden": true
    },
    "tags": []
   },
   "outputs": [
    {
     "name": "stdout",
     "output_type": "stream",
     "text": [
      "title: 허리디스크가 체중이 많이 나가는 사람이 주로 있는줄 알았는데... 7\n",
      "content:예전에 허리디스크로 종합병원 입원해보니\n",
      "\n",
      "대중없더라고요...\n",
      "\n",
      "다들 살찐사람들만 있을줄 알았는데\n",
      "\n",
      "복근이 있는 사람도 있고....빼빼 마른 사람도 있고....\n",
      "reviewer:관양동아스날\n",
      "review:체중보다 안좋은 자세에서 유래되서 그런거 아닐까유\n",
      "title: 허리디스크가 체중이 많이 나가는 사람이 주로 있는줄 알았는데... 7\n",
      "content:예전에 허리디스크로 종합병원 입원해보니\n",
      "\n",
      "대중없더라고요...\n",
      "\n",
      "다들 살찐사람들만 있을줄 알았는데\n",
      "\n",
      "복근이 있는 사람도 있고....빼빼 마른 사람도 있고....\n",
      "reviewer:관양동아스날\n",
      "review:체중보다 안좋은 자세에서 유래되서 그런거 아닐까유\n",
      "title: 허리디스크가 체중이 많이 나가는 사람이 주로 있는줄 알았는데... 7\n",
      "content:예전에 허리디스크로 종합병원 입원해보니\n",
      "\n",
      "대중없더라고요...\n",
      "\n",
      "다들 살찐사람들만 있을줄 알았는데\n",
      "\n",
      "복근이 있는 사람도 있고....빼빼 마른 사람도 있고....\n",
      "reviewer:관양동아스날\n",
      "review:체중보다 안좋은 자세에서 유래되서 그런거 아닐까유\n",
      "title: 허리디스크가 체중이 많이 나가는 사람이 주로 있는줄 알았는데... 7\n",
      "content:예전에 허리디스크로 종합병원 입원해보니\n",
      "\n",
      "대중없더라고요...\n",
      "\n",
      "다들 살찐사람들만 있을줄 알았는데\n",
      "\n",
      "복근이 있는 사람도 있고....빼빼 마른 사람도 있고....\n",
      "reviewer:관양동아스날\n",
      "review:체중보다 안좋은 자세에서 유래되서 그런거 아닐까유\n",
      "title: 허리디스크가 체중이 많이 나가는 사람이 주로 있는줄 알았는데... 7\n",
      "content:예전에 허리디스크로 종합병원 입원해보니\n",
      "\n",
      "대중없더라고요...\n",
      "\n",
      "다들 살찐사람들만 있을줄 알았는데\n",
      "\n",
      "복근이 있는 사람도 있고....빼빼 마른 사람도 있고....\n",
      "reviewer:관양동아스날\n",
      "review:체중보다 안좋은 자세에서 유래되서 그런거 아닐까유\n",
      "title: 허리디스크가 체중이 많이 나가는 사람이 주로 있는줄 알았는데... 7\n",
      "content:예전에 허리디스크로 종합병원 입원해보니\n",
      "\n",
      "대중없더라고요...\n",
      "\n",
      "다들 살찐사람들만 있을줄 알았는데\n",
      "\n",
      "복근이 있는 사람도 있고....빼빼 마른 사람도 있고....\n",
      "reviewer:관양동아스날\n",
      "review:체중보다 안좋은 자세에서 유래되서 그런거 아닐까유\n",
      "title: 허리디스크가 체중이 많이 나가는 사람이 주로 있는줄 알았는데... 7\n",
      "content:예전에 허리디스크로 종합병원 입원해보니\n",
      "\n",
      "대중없더라고요...\n",
      "\n",
      "다들 살찐사람들만 있을줄 알았는데\n",
      "\n",
      "복근이 있는 사람도 있고....빼빼 마른 사람도 있고....\n",
      "reviewer:관양동아스날\n",
      "review:체중보다 안좋은 자세에서 유래되서 그런거 아닐까유\n",
      "title: 허리디스크가 체중이 많이 나가는 사람이 주로 있는줄 알았는데... 7\n",
      "content:예전에 허리디스크로 종합병원 입원해보니\n",
      "\n",
      "대중없더라고요...\n",
      "\n",
      "다들 살찐사람들만 있을줄 알았는데\n",
      "\n",
      "복근이 있는 사람도 있고....빼빼 마른 사람도 있고....\n",
      "reviewer:관양동아스날\n",
      "review:체중보다 안좋은 자세에서 유래되서 그런거 아닐까유\n",
      "title: 40대 중반 헬스아재의 소고 23\n",
      "content:한참 젊을 때 헬스장 가면\n",
      "몸은 엄청난데 나이가 좀 있으신 형님들이\n",
      "훌륭한 근육량에 비해 적은 무게로 운동 하시는 걸 많이 봤습니다.\n",
      "그럴 때마다\n",
      "아... 저 형님들은 고수라 저중량으로도 충분한 자극을 줄 수 있어서 그런가보다.. 라고 생각했죠.\n",
      "그런데 제가 그 나이가 되어보니 한 가지 이유가 더 있었다는 걸 깨닳게 되었습니다.\n",
      "늙어서 근육량 대비 근력이 젊을 때와는 비교할 수 없을 정도로 떨어졌기 때문이라는 것이죠.\n",
      "\n",
      "저는 헬스를 30대 초반부터 대략 10년 이상 꾸준히 (설렁설렁) 해왔습니다.\n",
      "식탐이 많고 술을 좋아해서\n",
      "엄청 멋진 몸이 되었던 적은 없었지만 그래도 근력은 꽤 괜찮았어요.\n",
      "한참 열심히 잘하던 게 30대 중반쯤이었는데\n",
      "이 때 3대 중량이 대충 400쯤 되었으니까요.\n",
      "몸무게 70kg 초반에 그 정도면 꽤 드는 편이었죠.\n",
      "\n",
      "하지만 10년쯤 지난 지금은 3대 중량이 300 초반밖에 안됩니다.\n",
      "희한한 건 비록 설렁설렁이긴 하지만 운동은 꾸준히 해왔기에\n",
      "근육량은 거의 그대로라는 사실이에요.\n",
      "그러니까 같은 근육을 가지고도 힘은 20%이상 못내는 몸이 되어버린 거죠.\n",
      "\n",
      "저는 몇년 전 남들보다 좀 세게 사십춘기를 겪었었는데\n",
      "지금 생각해보면\n",
      "그 사십춘기의 원인 중 하나가 신체능력 저하가 시작되었기 때문인 것 같아요.\n",
      "누구나처럼 예상은 하고 있었지만\n",
      "멘탈이 약하고 예민한 저는 늙음을 실제로 마주하는 것이 생각보다 더 어려웠던 것 같습니다.\n",
      "\n",
      "지금은 늙음의 속도에 어느정도 익숙해지긴 했는데\n",
      "앞으로 지금보다 더 가속도가 붙는 순간이 올 거란 생각을 하면 두렵습니다.\n",
      "육체가 늙는 것과 더불어 그로 인해 마음도 많이 변할까봐서요.\n",
      "\n",
      "늙어버린 것은 받아들이기 쉬운데 더 늙을 거라는 사실은 쉽지 않네요. ㅎㅎ\n",
      "reviewer:덕후아재\n",
      "review:맞아요. 40대 중반에 운동 첨 하면서 느낀게....젊어서 했어야 했다란것만 뼈저리게 느끼게 되더라구요.\n"
     ]
    }
   ],
   "source": [
    "for clicker in range(1, 20) :\n",
    "    try:\n",
    "        click_path = '.subject_fixed'\n",
    "        browser.find_element_by_css_selector(click_path).click()\n",
    "        title_name = browser.find_element_by_css_selector('.post_subject').text\n",
    "        content = browser.find_element_by_css_selector('.post_article').text\n",
    "        reviewer = browser.find_element_by_css_selector('.nickname').text\n",
    "        review = browser.find_element_by_css_selector('.comment_view').text\n",
    "\n",
    "        print('title: {}'.format(title_name))\n",
    "        print('content:{}'.format(content))\n",
    "        print('reviewer:{}'.format(reviewer))\n",
    "        print('review:{}'.format(review))\n",
    "        \n",
    "        time.sleep(3)\n",
    "        browser.back()\n",
    "    except:\n",
    "        pass"
   ]
  },
  {
   "cell_type": "code",
   "execution_count": null,
   "id": "673cde73-d6f3-4d75-bed9-97a21565f327",
   "metadata": {},
   "outputs": [],
   "source": [
    "reviewer = browser.find_element_by_css_selector('.nickname').text\n",
    "review = browser.find_element_by_css_selector('.comment_view').text\n",
    "print('reviewer:{}'.format(reviewer)) \n",
    "print('review:{}'.format(review))"
   ]
  },
  {
   "cell_type": "code",
   "execution_count": null,
   "id": "6123e8a9-5562-48fa-ae98-319577e3d2c7",
   "metadata": {},
   "outputs": [],
   "source": []
  },
  {
   "cell_type": "code",
   "execution_count": null,
   "id": "88a3f62c-63a8-4f88-932a-9b5d7807702e",
   "metadata": {},
   "outputs": [],
   "source": []
  },
  {
   "cell_type": "code",
   "execution_count": null,
   "id": "8c82d8a2-764f-4292-b78b-dda44883ce2e",
   "metadata": {},
   "outputs": [],
   "source": []
  },
  {
   "cell_type": "code",
   "execution_count": null,
   "id": "e2adf9ea-7191-4b3f-9e94-d8df9b692d62",
   "metadata": {},
   "outputs": [],
   "source": []
  },
  {
   "cell_type": "code",
   "execution_count": null,
   "id": "f5dd49ff-4b35-4870-b0d7-0c9cbaa59593",
   "metadata": {},
   "outputs": [],
   "source": []
  }
 ],
 "metadata": {
  "kernelspec": {
   "display_name": "Python 3 (ipykernel)",
   "language": "python",
   "name": "python3"
  },
  "language_info": {
   "codemirror_mode": {
    "name": "ipython",
    "version": 3
   },
   "file_extension": ".py",
   "mimetype": "text/x-python",
   "name": "python",
   "nbconvert_exporter": "python",
   "pygments_lexer": "ipython3",
   "version": "3.11.3"
  }
 },
 "nbformat": 4,
 "nbformat_minor": 5
}
