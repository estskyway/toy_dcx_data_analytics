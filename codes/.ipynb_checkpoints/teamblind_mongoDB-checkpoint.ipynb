{
 "cells": [
  {
   "cell_type": "code",
   "execution_count": 8,
   "id": "840761f7-8b93-426b-bc94-4a3af3ae18e9",
   "metadata": {
    "tags": []
   },
   "outputs": [],
   "source": [
    "import pandas as pd\n",
    "import pymongo as mg\n",
    "client = mg.MongoClient(host='mongodb://localhost:27017')"
   ]
  },
  {
   "cell_type": "code",
   "execution_count": 2,
   "id": "be7d7a84-395a-44e6-8b4e-f5d99f243009",
   "metadata": {
    "tags": []
   },
   "outputs": [],
   "source": [
    "database = client['small_team_project']"
   ]
  },
  {
   "cell_type": "code",
   "execution_count": 3,
   "id": "005b820e-1ed3-48c7-bbd5-18827e4fc0f9",
   "metadata": {
    "tags": []
   },
   "outputs": [],
   "source": [
    "collection = database['teamblind_site']"
   ]
  },
  {
   "cell_type": "code",
   "execution_count": 5,
   "id": "71949ded-10f4-495f-be6f-5b7c3ca8964b",
   "metadata": {
    "tags": []
   },
   "outputs": [],
   "source": [
    "cursor = collection.find({})"
   ]
  },
  {
   "cell_type": "code",
   "execution_count": 6,
   "id": "2994901f-66f7-4cc5-b1e3-37784c048dcf",
   "metadata": {
    "tags": []
   },
   "outputs": [],
   "source": [
    "data_list = list(cursor)"
   ]
  },
  {
   "cell_type": "code",
   "execution_count": 13,
   "id": "c500ebcc-6194-43a3-a516-e4bb1e2c8da3",
   "metadata": {
    "tags": []
   },
   "outputs": [
    {
     "data": {
      "text/html": [
       "<div>\n",
       "<style scoped>\n",
       "    .dataframe tbody tr th:only-of-type {\n",
       "        vertical-align: middle;\n",
       "    }\n",
       "\n",
       "    .dataframe tbody tr th {\n",
       "        vertical-align: top;\n",
       "    }\n",
       "\n",
       "    .dataframe thead th {\n",
       "        text-align: right;\n",
       "    }\n",
       "</style>\n",
       "<table border=\"1\" class=\"dataframe\">\n",
       "  <thead>\n",
       "    <tr style=\"text-align: right;\">\n",
       "      <th></th>\n",
       "      <th>_id</th>\n",
       "      <th>writer</th>\n",
       "      <th>date</th>\n",
       "      <th>review</th>\n",
       "    </tr>\n",
       "  </thead>\n",
       "  <tbody>\n",
       "    <tr>\n",
       "      <th>0</th>\n",
       "      <td>65040be3986b7b72ad2a653a</td>\n",
       "      <td>스타트업 · v*******</td>\n",
       "      <td>작성일\\n08.17</td>\n",
       "      <td>왜 그렇게 말씀 하신지 물어봐도 될까요? 저도 디스크로 고생하고 있는데 한약치료를 ...</td>\n",
       "    </tr>\n",
       "    <tr>\n",
       "      <th>1</th>\n",
       "      <td>65040be7986b7b72ad2a653b</td>\n",
       "      <td>스타트업 · v*******</td>\n",
       "      <td>작성일\\n08.17</td>\n",
       "      <td>왜 그렇게 말씀 하신지 물어봐도 될까요? 저도 디스크로 고생하고 있는데 한약치료를 ...</td>\n",
       "    </tr>\n",
       "    <tr>\n",
       "      <th>2</th>\n",
       "      <td>65040be7986b7b72ad2a653c</td>\n",
       "      <td>새회사 · l*********\\n작성자</td>\n",
       "      <td>작성일\\n01.06</td>\n",
       "      <td>복근은 그럼 뭐로해야할까\\n나 헹레레 조아하는데..</td>\n",
       "    </tr>\n",
       "    <tr>\n",
       "      <th>3</th>\n",
       "      <td>65040c27986b7b72ad2a653d</td>\n",
       "      <td>스타트업 · v*******</td>\n",
       "      <td>작성일\\n08.17</td>\n",
       "      <td>왜 그렇게 말씀 하신지 물어봐도 될까요? 저도 디스크로 고생하고 있는데 한약치료를 ...</td>\n",
       "    </tr>\n",
       "    <tr>\n",
       "      <th>4</th>\n",
       "      <td>65040c27986b7b72ad2a653e</td>\n",
       "      <td>새회사 · l*********\\n작성자</td>\n",
       "      <td>작성일\\n01.06</td>\n",
       "      <td>복근은 그럼 뭐로해야할까\\n나 헹레레 조아하는데..</td>\n",
       "    </tr>\n",
       "    <tr>\n",
       "      <th>...</th>\n",
       "      <td>...</td>\n",
       "      <td>...</td>\n",
       "      <td>...</td>\n",
       "      <td>...</td>\n",
       "    </tr>\n",
       "    <tr>\n",
       "      <th>17144</th>\n",
       "      <td>6504180f986b7b72ad2aa836</td>\n",
       "      <td>새회사 · I**</td>\n",
       "      <td>작성일\\n06.20</td>\n",
       "      <td>수술은 받으셨나요? 지금은 어떠신가요? 저희 어머니도 목디스크 수술 받았었는데 다시...</td>\n",
       "    </tr>\n",
       "    <tr>\n",
       "      <th>17145</th>\n",
       "      <td>6504180f986b7b72ad2aa837</td>\n",
       "      <td>팬오션\\n· |*******</td>\n",
       "      <td>작성일\\n06.12</td>\n",
       "      <td>그렇다고 척출이라고 할순 없잖아</td>\n",
       "    </tr>\n",
       "    <tr>\n",
       "      <th>17146</th>\n",
       "      <td>6504180f986b7b72ad2aa838</td>\n",
       "      <td>진에어\\n· i********</td>\n",
       "      <td>작성일\\n2020.03.24.</td>\n",
       "      <td>의사소견이 교통사고 아니라하면 방법이 없음.. ㅠ</td>\n",
       "    </tr>\n",
       "    <tr>\n",
       "      <th>17147</th>\n",
       "      <td>6504180f986b7b72ad2aa839</td>\n",
       "      <td>공무원\\n· T*****</td>\n",
       "      <td>작성일\\n2020.12.25.</td>\n",
       "      <td>나 며칠 전에 그래서 반신 불수 되는 줄 알고 와이프한테 작별인사도 했는데 병원가니...</td>\n",
       "    </tr>\n",
       "    <tr>\n",
       "      <th>17148</th>\n",
       "      <td>6504180f986b7b72ad2aa83a</td>\n",
       "      <td>새회사 · s******</td>\n",
       "      <td>작성일\\n2022.04.18.</td>\n",
       "      <td>15년식 소나타에요</td>\n",
       "    </tr>\n",
       "  </tbody>\n",
       "</table>\n",
       "<p>17149 rows × 4 columns</p>\n",
       "</div>"
      ],
      "text/plain": [
       "                            _id                 writer              date  \\\n",
       "0      65040be3986b7b72ad2a653a        스타트업 · v*******        작성일\\n08.17   \n",
       "1      65040be7986b7b72ad2a653b        스타트업 · v*******        작성일\\n08.17   \n",
       "2      65040be7986b7b72ad2a653c  새회사 · l*********\\n작성자        작성일\\n01.06   \n",
       "3      65040c27986b7b72ad2a653d        스타트업 · v*******        작성일\\n08.17   \n",
       "4      65040c27986b7b72ad2a653e  새회사 · l*********\\n작성자        작성일\\n01.06   \n",
       "...                         ...                    ...               ...   \n",
       "17144  6504180f986b7b72ad2aa836              새회사 · I**        작성일\\n06.20   \n",
       "17145  6504180f986b7b72ad2aa837        팬오션\\n· |*******        작성일\\n06.12   \n",
       "17146  6504180f986b7b72ad2aa838       진에어\\n· i********  작성일\\n2020.03.24.   \n",
       "17147  6504180f986b7b72ad2aa839          공무원\\n· T*****  작성일\\n2020.12.25.   \n",
       "17148  6504180f986b7b72ad2aa83a          새회사 · s******  작성일\\n2022.04.18.   \n",
       "\n",
       "                                                  review  \n",
       "0      왜 그렇게 말씀 하신지 물어봐도 될까요? 저도 디스크로 고생하고 있는데 한약치료를 ...  \n",
       "1      왜 그렇게 말씀 하신지 물어봐도 될까요? 저도 디스크로 고생하고 있는데 한약치료를 ...  \n",
       "2                           복근은 그럼 뭐로해야할까\\n나 헹레레 조아하는데..  \n",
       "3      왜 그렇게 말씀 하신지 물어봐도 될까요? 저도 디스크로 고생하고 있는데 한약치료를 ...  \n",
       "4                           복근은 그럼 뭐로해야할까\\n나 헹레레 조아하는데..  \n",
       "...                                                  ...  \n",
       "17144  수술은 받으셨나요? 지금은 어떠신가요? 저희 어머니도 목디스크 수술 받았었는데 다시...  \n",
       "17145                                  그렇다고 척출이라고 할순 없잖아  \n",
       "17146                        의사소견이 교통사고 아니라하면 방법이 없음.. ㅠ  \n",
       "17147  나 며칠 전에 그래서 반신 불수 되는 줄 알고 와이프한테 작별인사도 했는데 병원가니...  \n",
       "17148                                         15년식 소나타에요  \n",
       "\n",
       "[17149 rows x 4 columns]"
      ]
     },
     "execution_count": 13,
     "metadata": {},
     "output_type": "execute_result"
    }
   ],
   "source": [
    "df_teamblind = pd.DataFrame(data_list)\n",
    "df_teamblind"
   ]
  },
  {
   "cell_type": "code",
   "execution_count": 16,
   "id": "ac8143b8-ada8-494b-84bf-38ed45061616",
   "metadata": {
    "tags": []
   },
   "outputs": [
    {
     "data": {
      "text/html": [
       "<div>\n",
       "<style scoped>\n",
       "    .dataframe tbody tr th:only-of-type {\n",
       "        vertical-align: middle;\n",
       "    }\n",
       "\n",
       "    .dataframe tbody tr th {\n",
       "        vertical-align: top;\n",
       "    }\n",
       "\n",
       "    .dataframe thead th {\n",
       "        text-align: right;\n",
       "    }\n",
       "</style>\n",
       "<table border=\"1\" class=\"dataframe\">\n",
       "  <thead>\n",
       "    <tr style=\"text-align: right;\">\n",
       "      <th></th>\n",
       "      <th>_id</th>\n",
       "      <th>writer</th>\n",
       "      <th>date</th>\n",
       "      <th>review</th>\n",
       "    </tr>\n",
       "  </thead>\n",
       "  <tbody>\n",
       "    <tr>\n",
       "      <th>0</th>\n",
       "      <td>65040be3986b7b72ad2a653a</td>\n",
       "      <td>스타트업 · v*******</td>\n",
       "      <td>작성일\\n08.17</td>\n",
       "      <td>왜 그렇게 말씀 하신지 물어봐도 될까요? 저도 디스크로 고생하고 있는데 한약치료를 ...</td>\n",
       "    </tr>\n",
       "    <tr>\n",
       "      <th>2</th>\n",
       "      <td>65040be7986b7b72ad2a653c</td>\n",
       "      <td>새회사 · l*********\\n작성자</td>\n",
       "      <td>작성일\\n01.06</td>\n",
       "      <td>복근은 그럼 뭐로해야할까\\n나 헹레레 조아하는데..</td>\n",
       "    </tr>\n",
       "    <tr>\n",
       "      <th>5</th>\n",
       "      <td>65040c27986b7b72ad2a653f</td>\n",
       "      <td>국민건강보험공단\\n· !*********</td>\n",
       "      <td>작성일\\n2020.10.10.</td>\n",
       "      <td>터지면 상태가 어때?</td>\n",
       "    </tr>\n",
       "  </tbody>\n",
       "</table>\n",
       "</div>"
      ],
      "text/plain": [
       "                        _id                  writer              date  \\\n",
       "0  65040be3986b7b72ad2a653a         스타트업 · v*******        작성일\\n08.17   \n",
       "2  65040be7986b7b72ad2a653c   새회사 · l*********\\n작성자        작성일\\n01.06   \n",
       "5  65040c27986b7b72ad2a653f  국민건강보험공단\\n· !*********  작성일\\n2020.10.10.   \n",
       "\n",
       "                                              review  \n",
       "0  왜 그렇게 말씀 하신지 물어봐도 될까요? 저도 디스크로 고생하고 있는데 한약치료를 ...  \n",
       "2                       복근은 그럼 뭐로해야할까\\n나 헹레레 조아하는데..  \n",
       "5                                        터지면 상태가 어때?  "
      ]
     },
     "execution_count": 16,
     "metadata": {},
     "output_type": "execute_result"
    }
   ],
   "source": [
    "# 리뷰컬럼을 기준으로 중복값 제거\n",
    "df_teamblind = df_teamblind.drop_duplicates(subset=['review'])\n",
    "df_teamblind[:3]"
   ]
  },
  {
   "cell_type": "code",
   "execution_count": 17,
   "id": "c6eda6ab-c708-41ae-a04e-89cfc5ca5e72",
   "metadata": {
    "tags": []
   },
   "outputs": [],
   "source": [
    "df_teamblind.to_csv('../datasets/HyeIn.csv')"
   ]
  }
 ],
 "metadata": {
  "kernelspec": {
   "display_name": "Python 3 (ipykernel)",
   "language": "python",
   "name": "python3"
  },
  "language_info": {
   "codemirror_mode": {
    "name": "ipython",
    "version": 3
   },
   "file_extension": ".py",
   "mimetype": "text/x-python",
   "name": "python",
   "nbconvert_exporter": "python",
   "pygments_lexer": "ipython3",
   "version": "3.11.3"
  }
 },
 "nbformat": 4,
 "nbformat_minor": 5
}
