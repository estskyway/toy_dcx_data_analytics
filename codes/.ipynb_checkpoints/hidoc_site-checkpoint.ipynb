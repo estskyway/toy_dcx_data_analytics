{
 "cells": [
  {
   "cell_type": "markdown",
   "id": "f5be77a3-8003-4f76-aa12-1cdaaffcdc34",
   "metadata": {},
   "source": [
    "# scrapping 대상 사이트\n",
    "1. 블라인드 : https://www.teamblind.com/kr/search/%EB%94%94%EC%8A%A4%ED%81%AC\n",
    "2. 하이닥 : https://www.hidoc.co.kr/integratesearch/searchhealthqnalist?query=%EB%94%94%EC%8A%A4%ED%81%AC&page=1\n",
    "3. 클리앙 : https://www.clien.net/service/search?q=%EB%94%94%EC%8A%A4%ED%81%AC&sort=recency&p=10&boardCd=&isBoard=false"
   ]
  },
  {
   "cell_type": "code",
   "execution_count": 1,
   "id": "49ccd436-7776-48d0-975b-db9d0eac5915",
   "metadata": {
    "tags": []
   },
   "outputs": [],
   "source": [
    "from selenium import webdriver\n",
    "import time"
   ]
  },
  {
   "cell_type": "code",
   "execution_count": 2,
   "id": "2ceb7591-d618-4fb3-85d0-042e88d41f18",
   "metadata": {
    "tags": []
   },
   "outputs": [],
   "source": [
    "# open chrome browser\n",
    "browser = webdriver.Chrome(executable_path='../../chromedriver.exe')"
   ]
  },
  {
   "cell_type": "markdown",
   "id": "f4a69d9a-d414-4924-9932-6d80be9497a0",
   "metadata": {},
   "source": [
    "## 1. 하이닥 사이트\n",
    "- title tag : div.article-view-head > h2\n",
    "- content tag : \n",
    "- review tag : "
   ]
  },
  {
   "cell_type": "code",
   "execution_count": 3,
   "id": "b64dfcfe-3413-40a0-b088-a0ba7f2028d7",
   "metadata": {
    "tags": []
   },
   "outputs": [],
   "source": [
    "browser.get('https://www.hidoc.co.kr/integratesearch/searchhealthqnalist?query=%EB%94%94%EC%8A%A4%ED%81%AC&page=1')"
   ]
  },
  {
   "cell_type": "code",
   "execution_count": 4,
   "id": "4e15c786-3c1b-413b-81c0-ad5d569fb996",
   "metadata": {
    "tags": []
   },
   "outputs": [],
   "source": [
    "browser.implicitly_wait(10)"
   ]
  },
  {
   "cell_type": "markdown",
   "id": "5a9624bd-6dad-48ec-99aa-84103dbe880f",
   "metadata": {},
   "source": [
    "### 게시글 클릭\n",
    "- #wrap > section > div > div > div.article-list > div"
   ]
  },
  {
   "cell_type": "code",
   "execution_count": 5,
   "id": "df913998-3a16-47c8-95c8-e04221440618",
   "metadata": {
    "tags": []
   },
   "outputs": [],
   "source": [
    "click_path = 'div.coll_info > ul > li:nth-child(1) > a > b'\n",
    "browser.find_element_by_css_selector(click_path).click()"
   ]
  },
  {
   "cell_type": "code",
   "execution_count": 6,
   "id": "e8473396-3b31-436c-9f39-ebd6727ef9ba",
   "metadata": {
    "tags": []
   },
   "outputs": [],
   "source": [
    "title_name = browser.find_element_by_css_selector('div.box_type1.view_question > div.inner > strong').text\n",
    "content = browser.find_element_by_css_selector('div.box_type1.view_question > div.inner > div.desc > p').text\n",
    "review = browser.find_element_by_css_selector('div.cont > div:nth-child(1)').text\n",
    "\n",
    "basket = [title_name, content, review]"
   ]
  },
  {
   "cell_type": "code",
   "execution_count": 7,
   "id": "222500af-f515-445f-aae3-b67e4dd04fd7",
   "metadata": {
    "tags": []
   },
   "outputs": [],
   "source": [
    "browser.back()"
   ]
  },
  {
   "cell_type": "code",
   "execution_count": 8,
   "id": "78e4ffdb-bf84-44d3-b527-5febe5b01bc6",
   "metadata": {},
   "outputs": [],
   "source": [
    "# for clicker in range(1, 21) :\n",
    "#     try:\n",
    "#         click_path = 'div.coll_info > ul > li:nth-child({}) > a > b'.format(clicker)\n",
    "#         browser.find_element_by_css_selector(click_path).click()\n",
    "#         title_name = browser.find_element_by_css_selector('div.box_type1.view_question > div.inner > strong').text\n",
    "#         content = browser.find_element_by_css_selector('div.box_type1.view_question > div.inner > div.desc > p').text\n",
    "#         review = browser.find_element_by_css_selector('div.cont > div:nth-child(1)').text\n",
    "\n",
    "#         print('title: {}, content:{}'.format(title_name, content))\n",
    "#         print('review:{}'.format(review))\n",
    "        \n",
    "#         time.sleep(3)\n",
    "#         browser.back()\n",
    "#     except:\n",
    "#         pass"
   ]
  },
  {
   "cell_type": "code",
   "execution_count": 9,
   "id": "e221054f-d412-4a76-872c-8b998ccbf575",
   "metadata": {
    "tags": []
   },
   "outputs": [],
   "source": [
    "# #paginations\n",
    "# for page_next in range (1,100):\n",
    "#     element_next_path = 'div.paging_type1 > span > a.ico_comm.btn_next'\n",
    "#     try:\n",
    "#         for page_number in range(2, 11):\n",
    "#             element_path = 'div.paging_type1 > span > a:nth-child({})'.format(page_number)\n",
    "#             try:\n",
    "#                 pagination = browser.find_element_by_css_selector(element_path)\n",
    "#                 pagination.click()\n",
    "#                 print('성공 : {}'.format(element_path))\n",
    "#                 time.sleep(3)\n",
    "#             except:\n",
    "#                 print('실패 : {}'.format(element_path))\n",
    "#                 pass\n",
    "#         next_pagination = browser.find_element_by_css_selector(element_next_path).click()\n",
    "#         print('성공 : {}'.format(element_next_path))\n",
    "#     except:\n",
    "#         print('실패 : {}'.format(element_next_path))\n",
    "#         pass"
   ]
  },
  {
   "cell_type": "code",
   "execution_count": null,
   "id": "cfc4eb57-4c1b-4890-9286-9086a80bb781",
   "metadata": {
    "tags": []
   },
   "outputs": [
    {
     "name": "stdout",
     "output_type": "stream",
     "text": [
      "성공 : div.paging_type1 > span > a:nth-child(2)\n",
      "성공 : div.paging_type1 > span > a:nth-child(3)\n",
      "성공 : div.paging_type1 > span > a:nth-child(4)\n",
      "성공 : div.paging_type1 > span > a:nth-child(5)\n",
      "성공 : div.paging_type1 > span > a:nth-child(6)\n",
      "성공 : div.paging_type1 > span > a:nth-child(7)\n",
      "성공 : div.paging_type1 > span > a:nth-child(8)\n",
      "성공 : div.paging_type1 > span > a:nth-child(9)\n",
      "성공 : div.paging_type1 > span > a:nth-child(10)\n",
      "성공 : div.paging_type1 > span > a.ico_comm.btn_next\n",
      "실패 : div.paging_type1 > span > a:nth-child(2)\n",
      "성공 : div.paging_type1 > span > a:nth-child(3)\n",
      "성공 : div.paging_type1 > span > a:nth-child(4)\n",
      "성공 : div.paging_type1 > span > a:nth-child(5)\n",
      "성공 : div.paging_type1 > span > a:nth-child(6)\n",
      "성공 : div.paging_type1 > span > a:nth-child(7)\n",
      "성공 : div.paging_type1 > span > a:nth-child(8)\n",
      "성공 : div.paging_type1 > span > a:nth-child(9)\n",
      "성공 : div.paging_type1 > span > a:nth-child(10)\n",
      "성공 : div.paging_type1 > span > a.ico_comm.btn_next\n",
      "실패 : div.paging_type1 > span > a:nth-child(2)\n",
      "성공 : div.paging_type1 > span > a:nth-child(3)\n",
      "성공 : div.paging_type1 > span > a:nth-child(4)\n",
      "성공 : div.paging_type1 > span > a:nth-child(5)\n"
     ]
    }
   ],
   "source": [
    "#paginations\n",
    "import pandas as pd\n",
    "import pymongo as mg\n",
    "client = mg.MongoClient(host='mongodb://localhost:27017')\n",
    "database = client['small_team_project']\n",
    "collection = database['hidoc_site']\n",
    "\n",
    "hidoc_columns_name = ['title_name', 'content', 'review']\n",
    "basket_list = []\n",
    "for page_next in range (1,10):\n",
    "    element_next_path = 'div.paging_type1 > span > a.ico_comm.btn_next'\n",
    "    try:\n",
    "        for page_number in range(2, 11):\n",
    "            time.sleep(2)\n",
    "            element_path = 'div.paging_type1 > span > a:nth-child({})'.format(page_number)\n",
    "            try:\n",
    "                for clicker in range(1, 21) :\n",
    "                    try:\n",
    "                        click_path = 'div.coll_info > ul > li:nth-child({}) > a > b'.format(clicker)\n",
    "                        browser.find_element_by_css_selector(click_path).click()\n",
    "                        title_name = browser.find_element_by_css_selector('div.box_type1.view_question > div.inner > strong').text\n",
    "                        content = browser.find_element_by_css_selector('div.box_type1.view_question > div.inner > div.desc > p').text\n",
    "                        review = browser.find_element_by_css_selector('div.cont > div:nth-child(1)').text\n",
    "\n",
    "                        # print('title: {}, content:{}'.format(title_name, content))\n",
    "                        # print('review:{}'.format(review))\n",
    "\n",
    "                        # time.sleep(2)\n",
    "                        browser.back()\n",
    "                        # time.sleep(3)\n",
    "                        total_list = [title_name, content, review]\n",
    "                        basket_list.append(total_list)\n",
    "                        \n",
    "                        df_hidoc = pd.DataFrame(data=basket_list, columns=hidoc_columns_name)\n",
    "                        data_dict = df_hidoc.to_dict(orient='records')\n",
    "                        collection.insert_many(data_dict)\n",
    "                    except:\n",
    "                        pass\n",
    "                \n",
    "                pagination = browser.find_element_by_css_selector(element_path)\n",
    "                pagination.click()\n",
    "                print('성공 : {}'.format(element_path))\n",
    "            except:\n",
    "                print('실패 : {}'.format(element_path))\n",
    "                pass\n",
    "        next_pagination = browser.find_element_by_css_selector(element_next_path).click()    \n",
    "        print('성공 : {}'.format(element_next_path))\n",
    "    except:\n",
    "        print('실패 : {}'.format(element_next_path))\n",
    "        pass"
   ]
  },
  {
   "cell_type": "code",
   "execution_count": 11,
   "id": "ae5d6a16-8385-4928-af10-870a2cb329f3",
   "metadata": {
    "tags": []
   },
   "outputs": [],
   "source": [
    "# import time \n",
    "\n",
    "# for page_number in range(1,11): #첫 페이지는 tag가 달라짐 #2페이지부터 \n",
    "#     element_path = '#area_itemlist > div.paginate > div > a:nth-of-type({})'.format(page_number)\n",
    "#     try: \n",
    "#         pagination = browser.find_element_by_css_selector(element_path)\n",
    "#         pagination.click()\n",
    "#         print('성공: {}'.format(element_path))\n",
    "        \n",
    "#         time.sleep(3)\n",
    "#         element_title_path = '.mnemitem_goods_tit'\n",
    "#         webelements = browser.find_elements_by_css_selector(element_title_path)\n",
    "        \n",
    "#         for webelement in webelements:\n",
    "#             try :\n",
    "#                 print(webelement.text)\n",
    "#             except :\n",
    "#                 pass\n",
    "#     except: \n",
    "#         print('실패: {}'.format(element_path))\n",
    "#         pass \n",
    "    \n",
    "    \n",
    "# #네트웍을 타고 들어오는 시간에 클릭을 하면 에러-> 로딩되는 타임에는 기다려달라는 방어코드 필요 "
   ]
  }
 ],
 "metadata": {
  "kernelspec": {
   "display_name": "Python 3 (ipykernel)",
   "language": "python",
   "name": "python3"
  },
  "language_info": {
   "codemirror_mode": {
    "name": "ipython",
    "version": 3
   },
   "file_extension": ".py",
   "mimetype": "text/x-python",
   "name": "python",
   "nbconvert_exporter": "python",
   "pygments_lexer": "ipython3",
   "version": "3.11.3"
  }
 },
 "nbformat": 4,
 "nbformat_minor": 5
}
