{
 "cells": [
  {
   "cell_type": "markdown",
   "id": "f5be77a3-8003-4f76-aa12-1cdaaffcdc34",
   "metadata": {},
   "source": [
    "# scrapping 대상 사이트\n",
    "1. 블라인드 : https://www.teamblind.com/kr/search/%EB%94%94%EC%8A%A4%ED%81%AC\n",
    "2. 하이닥 : https://www.hidoc.co.kr/integratesearch/searchhealthqnalist?query=%EB%94%94%EC%8A%A4%ED%81%AC&page=1\n",
    "3. 클리앙 : https://www.clien.net/service/search?q=%EB%94%94%EC%8A%A4%ED%81%AC&sort=recency&p=10&boardCd=&isBoard=false"
   ]
  },
  {
   "cell_type": "code",
   "execution_count": 25,
   "id": "49ccd436-7776-48d0-975b-db9d0eac5915",
   "metadata": {
    "tags": []
   },
   "outputs": [],
   "source": [
    "from selenium import webdriver\n",
    "import time"
   ]
  },
  {
   "cell_type": "code",
   "execution_count": 24,
   "id": "2ceb7591-d618-4fb3-85d0-042e88d41f18",
   "metadata": {
    "tags": []
   },
   "outputs": [],
   "source": [
    "# open chrome browser\n",
    "browser = webdriver.Chrome(executable_path='../../chromedriver.exe')"
   ]
  },
  {
   "cell_type": "markdown",
   "id": "f4a69d9a-d414-4924-9932-6d80be9497a0",
   "metadata": {},
   "source": [
    "## 1. 블라인드 사이트"
   ]
  },
  {
   "cell_type": "code",
   "execution_count": 25,
   "id": "b64dfcfe-3413-40a0-b088-a0ba7f2028d7",
   "metadata": {
    "tags": []
   },
   "outputs": [],
   "source": [
    "browser.get('https://www.teamblind.com/kr/search/%EB%94%94%EC%8A%A4%ED%81%AC')"
   ]
  },
  {
   "cell_type": "code",
   "execution_count": 26,
   "id": "4e15c786-3c1b-413b-81c0-ad5d569fb996",
   "metadata": {
    "tags": []
   },
   "outputs": [],
   "source": [
    "browser.implicitly_wait(10)"
   ]
  },
  {
   "cell_type": "markdown",
   "id": "5a9624bd-6dad-48ec-99aa-84103dbe880f",
   "metadata": {},
   "source": [
    "### 게시글 클릭\n",
    "- #wrap > section > div > div > div.article-list > div"
   ]
  },
  {
   "cell_type": "code",
   "execution_count": 47,
   "id": "df913998-3a16-47c8-95c8-e04221440618",
   "metadata": {
    "tags": []
   },
   "outputs": [],
   "source": [
    "click_path = '#wrap > section > div > div > div.article-list > div'\n",
    "browser.find_element_by_css_selector(click_path).click()"
   ]
  },
  {
   "cell_type": "markdown",
   "id": "b5cdd96a-0e97-4f86-969d-d0ba9f41f935",
   "metadata": {},
   "source": [
    "### 게시글 정보\n",
    "- title tag(제목) : div.article-view-head > h2\n",
    "- content tag(내용) : .contents-txt\n",
    "- review tag(댓글) : .wrap-comment.comment_area\n",
    "- reply(답글) tag : .wrap-reply"
   ]
  },
  {
   "cell_type": "code",
   "execution_count": 48,
   "id": "e8473396-3b31-436c-9f39-ebd6727ef9ba",
   "metadata": {
    "tags": []
   },
   "outputs": [
    {
     "data": {
      "text/plain": [
       "['허리 디스크 여자 다이어트',\n",
       " '안녕하세요!\\n운동에 대해 잘 몰라서 여쭤보러고 글 남깁니다.\\n\\n저는 현재 매우 비만 상태고\\n164/75(추정)\\n운동도 거의해본 적 없는 상태라 다이어트를 하려고 했는데 허리를 다쳤어요ㅠㅠ\\n\\n식단으로만 빼기에는 체질 개선도 그렇고 살쳐짐도 있을 것 같아 운동을 병행하기는 해야할 거 같은데\\n허리 디스크가 있는 경우 어떤 운동을 해야 하나요?ㅠ\\n\\n디스크는 확진 판정을 받은 건 아니고 (mri찍은 게 아니어서..)\\n허리를 삐끗해서 정형외과 갔고\\n현재 약물 및 물리치료 1번 받고 한의원 갔다가 효과가 없어서 정형외과에서 허리 주사를 한 번 받았습니다.\\n\\n통증은 거의 사라졌지만 자세 신경쓰고 쉬어서 그런거 같거 움직이면 약한 통증은 있어서 주사 한 번 더 맞을 거 같아요..\\n\\n이런 경우 어떤 운동을 할 수 있을까요?\\n\\n헬스장 런닝머신이나 스텝밀(천국의 계단)은 해도 될까요..?\\n아니면 필라테스 등으로 자세를 교정하는 게 좋을까요?\\n\\n조언 부탁드리겠습니다! ㅠㅠ']"
      ]
     },
     "execution_count": 48,
     "metadata": {},
     "output_type": "execute_result"
    }
   ],
   "source": [
    "# 글 1개의 제목, 내용\n",
    "title_name = browser.find_element_by_css_selector('div.article-view-head > h2').text\n",
    "content = browser.find_element_by_css_selector('.contents-txt').text\n",
    "\n",
    "[title_name, content]"
   ]
  },
  {
   "cell_type": "code",
   "execution_count": 31,
   "id": "fb8af774-df9a-426d-8d51-3c945c65f7ef",
   "metadata": {
    "tags": []
   },
   "outputs": [
    {
     "name": "stdout",
     "output_type": "stream",
     "text": [
      "Done\n"
     ]
    }
   ],
   "source": [
    "# 리뷰\n",
    "reviews_bundle = browser.find_elements_by_css_selector('.wrap-comment.comment_area')\n",
    "len(reviews_bundle)\n",
    "for review in reviews_bundle :\n",
    "    try:\n",
    "        review_writer = review.find_element_by_css_selector('p.name').text\n",
    "        review_text = review.find_element_by_css_selector('.cmt-txt').text\n",
    "        print('writer: {}'.format(review_writer))\n",
    "        print('review: {}'.format(review_text))\n",
    "    except :\n",
    "        print(str())\n",
    "print('Done')"
   ]
  },
  {
   "cell_type": "code",
   "execution_count": 50,
   "id": "bee86d1c-3c39-475d-8b3d-a14ae7216564",
   "metadata": {
    "tags": []
   },
   "outputs": [
    {
     "data": {
      "text/plain": [
       "50"
      ]
     },
     "execution_count": 50,
     "metadata": {},
     "output_type": "execute_result"
    }
   ],
   "source": [
    "# 첫 페이지에서 보여지는 리스트(50개)\n",
    "# 스크롤 하면 20개씩 증가(50->70->90...)\n",
    "reviews_standard_count = browser.find_elements_by_css_selector('.article-list-pre')\n",
    "len(reviews_standard_count)"
   ]
  },
  {
   "cell_type": "code",
   "execution_count": 36,
   "id": "89b5852a-9ed3-4c8a-ab96-dbf6c00e6ec5",
   "metadata": {
    "tags": []
   },
   "outputs": [
    {
     "name": "stdout",
     "output_type": "stream",
     "text": [
      "\n",
      "\n",
      "\n",
      "\n",
      "\n",
      "\n",
      "\n",
      "\n",
      "\n",
      "\n",
      "\n",
      "\n",
      "\n",
      "\n",
      "\n",
      "\n",
      "\n",
      "\n",
      "\n",
      "\n",
      "\n",
      "\n",
      "\n",
      "\n",
      "\n",
      "\n",
      "\n",
      "\n",
      "\n",
      "\n",
      "\n",
      "\n",
      "\n",
      "\n",
      "\n",
      "\n",
      "\n",
      "\n",
      "\n",
      "\n",
      "\n",
      "\n",
      "\n",
      "\n",
      "\n",
      "\n",
      "\n",
      "\n",
      "\n",
      "\n",
      "\n",
      "\n",
      "\n",
      "\n",
      "\n",
      "\n",
      "\n",
      "\n",
      "\n",
      "\n",
      "\n",
      "\n"
     ]
    },
    {
     "ename": "NoSuchElementException",
     "evalue": "Message: no such element: Unable to locate element: {\"method\":\"css selector\",\"selector\":\"div:nth-child(272) > div.tit > h3\"}\n  (Session info: chrome=116.0.5845.188)\n",
     "output_type": "error",
     "traceback": [
      "\u001b[1;31m---------------------------------------------------------------------------\u001b[0m",
      "\u001b[1;31mNoSuchElementException\u001b[0m                    Traceback (most recent call last)",
      "Cell \u001b[1;32mIn[36], line 23\u001b[0m\n\u001b[0;32m     21\u001b[0m click_path \u001b[38;5;241m=\u001b[39m \u001b[38;5;124m'\u001b[39m\u001b[38;5;124mdiv:nth-child(\u001b[39m\u001b[38;5;132;01m{}\u001b[39;00m\u001b[38;5;124m) > div.tit > h3\u001b[39m\u001b[38;5;124m'\u001b[39m\u001b[38;5;241m.\u001b[39mformat(clicker)\n\u001b[0;32m     22\u001b[0m time\u001b[38;5;241m.\u001b[39msleep(\u001b[38;5;241m1\u001b[39m)\n\u001b[1;32m---> 23\u001b[0m browser\u001b[38;5;241m.\u001b[39mfind_element_by_css_selector(click_path)\u001b[38;5;241m.\u001b[39mclick()\n\u001b[0;32m     24\u001b[0m \u001b[38;5;66;03m# 작성자, 작성일, 내용 가져오기\u001b[39;00m\n\u001b[0;32m     25\u001b[0m reviews_bundle \u001b[38;5;241m=\u001b[39m browser\u001b[38;5;241m.\u001b[39mfind_elements_by_css_selector(\u001b[38;5;124m'\u001b[39m\u001b[38;5;124m.wrap-comment.comment_area\u001b[39m\u001b[38;5;124m'\u001b[39m)\n",
      "File \u001b[1;32m~\\anaconda3\\Lib\\site-packages\\selenium\\webdriver\\remote\\webdriver.py:598\u001b[0m, in \u001b[0;36mWebDriver.find_element_by_css_selector\u001b[1;34m(self, css_selector)\u001b[0m\n\u001b[0;32m    582\u001b[0m \u001b[38;5;28;01mdef\u001b[39;00m \u001b[38;5;21mfind_element_by_css_selector\u001b[39m(\u001b[38;5;28mself\u001b[39m, css_selector):\n\u001b[0;32m    583\u001b[0m \u001b[38;5;250m    \u001b[39m\u001b[38;5;124;03m\"\"\"\u001b[39;00m\n\u001b[0;32m    584\u001b[0m \u001b[38;5;124;03m    Finds an element by css selector.\u001b[39;00m\n\u001b[0;32m    585\u001b[0m \n\u001b[1;32m   (...)\u001b[0m\n\u001b[0;32m    596\u001b[0m \u001b[38;5;124;03m        element = driver.find_element_by_css_selector('#foo')\u001b[39;00m\n\u001b[0;32m    597\u001b[0m \u001b[38;5;124;03m    \"\"\"\u001b[39;00m\n\u001b[1;32m--> 598\u001b[0m     \u001b[38;5;28;01mreturn\u001b[39;00m \u001b[38;5;28mself\u001b[39m\u001b[38;5;241m.\u001b[39mfind_element(by\u001b[38;5;241m=\u001b[39mBy\u001b[38;5;241m.\u001b[39mCSS_SELECTOR, value\u001b[38;5;241m=\u001b[39mcss_selector)\n",
      "File \u001b[1;32m~\\anaconda3\\Lib\\site-packages\\selenium\\webdriver\\remote\\webdriver.py:976\u001b[0m, in \u001b[0;36mWebDriver.find_element\u001b[1;34m(self, by, value)\u001b[0m\n\u001b[0;32m    974\u001b[0m         by \u001b[38;5;241m=\u001b[39m By\u001b[38;5;241m.\u001b[39mCSS_SELECTOR\n\u001b[0;32m    975\u001b[0m         value \u001b[38;5;241m=\u001b[39m \u001b[38;5;124m'\u001b[39m\u001b[38;5;124m[name=\u001b[39m\u001b[38;5;124m\"\u001b[39m\u001b[38;5;132;01m%s\u001b[39;00m\u001b[38;5;124m\"\u001b[39m\u001b[38;5;124m]\u001b[39m\u001b[38;5;124m'\u001b[39m \u001b[38;5;241m%\u001b[39m value\n\u001b[1;32m--> 976\u001b[0m \u001b[38;5;28;01mreturn\u001b[39;00m \u001b[38;5;28mself\u001b[39m\u001b[38;5;241m.\u001b[39mexecute(Command\u001b[38;5;241m.\u001b[39mFIND_ELEMENT, {\n\u001b[0;32m    977\u001b[0m     \u001b[38;5;124m'\u001b[39m\u001b[38;5;124musing\u001b[39m\u001b[38;5;124m'\u001b[39m: by,\n\u001b[0;32m    978\u001b[0m     \u001b[38;5;124m'\u001b[39m\u001b[38;5;124mvalue\u001b[39m\u001b[38;5;124m'\u001b[39m: value})[\u001b[38;5;124m'\u001b[39m\u001b[38;5;124mvalue\u001b[39m\u001b[38;5;124m'\u001b[39m]\n",
      "File \u001b[1;32m~\\anaconda3\\Lib\\site-packages\\selenium\\webdriver\\remote\\webdriver.py:321\u001b[0m, in \u001b[0;36mWebDriver.execute\u001b[1;34m(self, driver_command, params)\u001b[0m\n\u001b[0;32m    319\u001b[0m response \u001b[38;5;241m=\u001b[39m \u001b[38;5;28mself\u001b[39m\u001b[38;5;241m.\u001b[39mcommand_executor\u001b[38;5;241m.\u001b[39mexecute(driver_command, params)\n\u001b[0;32m    320\u001b[0m \u001b[38;5;28;01mif\u001b[39;00m response:\n\u001b[1;32m--> 321\u001b[0m     \u001b[38;5;28mself\u001b[39m\u001b[38;5;241m.\u001b[39merror_handler\u001b[38;5;241m.\u001b[39mcheck_response(response)\n\u001b[0;32m    322\u001b[0m     response[\u001b[38;5;124m'\u001b[39m\u001b[38;5;124mvalue\u001b[39m\u001b[38;5;124m'\u001b[39m] \u001b[38;5;241m=\u001b[39m \u001b[38;5;28mself\u001b[39m\u001b[38;5;241m.\u001b[39m_unwrap_value(\n\u001b[0;32m    323\u001b[0m         response\u001b[38;5;241m.\u001b[39mget(\u001b[38;5;124m'\u001b[39m\u001b[38;5;124mvalue\u001b[39m\u001b[38;5;124m'\u001b[39m, \u001b[38;5;28;01mNone\u001b[39;00m))\n\u001b[0;32m    324\u001b[0m     \u001b[38;5;28;01mreturn\u001b[39;00m response\n",
      "File \u001b[1;32m~\\anaconda3\\Lib\\site-packages\\selenium\\webdriver\\remote\\errorhandler.py:242\u001b[0m, in \u001b[0;36mErrorHandler.check_response\u001b[1;34m(self, response)\u001b[0m\n\u001b[0;32m    240\u001b[0m         alert_text \u001b[38;5;241m=\u001b[39m value[\u001b[38;5;124m'\u001b[39m\u001b[38;5;124malert\u001b[39m\u001b[38;5;124m'\u001b[39m]\u001b[38;5;241m.\u001b[39mget(\u001b[38;5;124m'\u001b[39m\u001b[38;5;124mtext\u001b[39m\u001b[38;5;124m'\u001b[39m)\n\u001b[0;32m    241\u001b[0m     \u001b[38;5;28;01mraise\u001b[39;00m exception_class(message, screen, stacktrace, alert_text)\n\u001b[1;32m--> 242\u001b[0m \u001b[38;5;28;01mraise\u001b[39;00m exception_class(message, screen, stacktrace)\n",
      "\u001b[1;31mNoSuchElementException\u001b[0m: Message: no such element: Unable to locate element: {\"method\":\"css selector\",\"selector\":\"div:nth-child(272) > div.tit > h3\"}\n  (Session info: chrome=116.0.5845.188)\n"
     ]
    }
   ],
   "source": [
    "import pandas as pd\n",
    "import pymongo as mg\n",
    "client = mg.MongoClient(host='mongodb://localhost:27017')\n",
    "database = client['small_team_project']\n",
    "collection = database['teamblind_site']\n",
    "\n",
    "teamblind_columns_name = ['writer', 'date', 'review']\n",
    "basket_list= []\n",
    "from selenium.webdriver.common.keys import Keys\n",
    "# 화면 끝까지 이동\n",
    "screen_height = browser.execute_script('return window.innerHeight')\n",
    "document_height = browser.execute_script('return document.body.scrollHeight')\n",
    "screen_height, document_height\n",
    "i=4\n",
    "\n",
    "# 스크롤\n",
    "while True:\n",
    "    # 글 리스트 가져오기\n",
    "    for clicker in range(2, 3598):\n",
    "        time.sleep(1)\n",
    "        click_path = 'div:nth-child({}) > div.tit > h3'.format(clicker)\n",
    "        time.sleep(1)\n",
    "        browser.find_element_by_css_selector(click_path).click()\n",
    "        # 작성자, 작성일, 내용 가져오기\n",
    "        reviews_bundle = browser.find_elements_by_css_selector('.wrap-comment.comment_area')\n",
    "        for review in reviews_bundle :\n",
    "            try:\n",
    "                review_writer = review.find_element_by_css_selector('p.name').text\n",
    "            except :\n",
    "                print(str())\n",
    "            try:\n",
    "                review_date = review.find_element_by_css_selector('.date').text\n",
    "            except :\n",
    "                print(str())\n",
    "            try:\n",
    "                review_text = review.find_element_by_css_selector('.cmt-txt').text\n",
    "            except :\n",
    "                print(str())\n",
    "        \n",
    "        total_list = [review_writer, review_date, review_text]\n",
    "        basket_list.append(total_list)\n",
    "\n",
    "        # 저장 위한 작업\n",
    "        df_reviews = pd.DataFrame(data=basket_list, columns=teamblind_columns_name)\n",
    "        data_dict = df_reviews.to_dict(orient='records')\n",
    "        collection.insert_many(data_dict)\n",
    "\n",
    "        browser.back() # 리스트로 돌아가기\n",
    "        \n",
    "        if clicker == i  :\n",
    "            browser.find_element_by_css_selector('body').send_keys(Keys.PAGE_DOWN)\n",
    "            i=i+4\n",
    "        \n",
    "if current_scroll_position >= document_height :\n",
    "    reviews_standard_count = browser.find_elements_by_css_selector('.article-list-pre')\n",
    "    print(len(reviews_standard_count))\n",
    "    break\n",
    "        \n",
    "print('Done')"
   ]
  },
  {
   "cell_type": "code",
   "execution_count": null,
   "id": "9892cfb7-3fa2-4ade-a464-c6053ea486e3",
   "metadata": {},
   "outputs": [],
   "source": [
    "# browser.back() # 리스트로 돌아가기"
   ]
  },
  {
   "cell_type": "code",
   "execution_count": null,
   "id": "801fddb5-9173-41e6-965c-f9cfc7463f41",
   "metadata": {
    "tags": []
   },
   "outputs": [],
   "source": [
    "# browser.quit()"
   ]
  }
 ],
 "metadata": {
  "kernelspec": {
   "display_name": "Python 3 (ipykernel)",
   "language": "python",
   "name": "python3"
  },
  "language_info": {
   "codemirror_mode": {
    "name": "ipython",
    "version": 3
   },
   "file_extension": ".py",
   "mimetype": "text/x-python",
   "name": "python",
   "nbconvert_exporter": "python",
   "pygments_lexer": "ipython3",
   "version": "3.11.3"
  }
 },
 "nbformat": 4,
 "nbformat_minor": 5
}
